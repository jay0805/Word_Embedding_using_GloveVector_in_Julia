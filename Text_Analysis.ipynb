{
 "cells": [
  {
   "cell_type": "code",
   "execution_count": 1,
   "metadata": {},
   "outputs": [],
   "source": [
    "using TextAnalysis\n",
    "\n",
    "\n"
   ]
  },
  {
   "cell_type": "code",
   "execution_count": 2,
   "metadata": {},
   "outputs": [],
   "source": [
    "using MultivariateStats"
   ]
  },
  {
   "cell_type": "code",
   "execution_count": 3,
   "metadata": {},
   "outputs": [],
   "source": [
    "using Clustering"
   ]
  },
  {
   "cell_type": "code",
   "execution_count": 4,
   "metadata": {},
   "outputs": [
    {
     "data": {
      "text/plain": [
       "\"G:/jupyterr/Adams_1827.txt\""
      ]
     },
     "execution_count": 4,
     "metadata": {},
     "output_type": "execute_result"
    }
   ],
   "source": [
    "pathname=\"G:/jupyterr/Adams_1827.txt\""
   ]
  },
  {
   "cell_type": "code",
   "execution_count": 5,
   "metadata": {},
   "outputs": [
    {
     "data": {
      "text/plain": [
       "A FileDocument\n",
       " * Language: Languages.English()\n",
       " * Title: G:/jupyterr/Adams_1827.txt\n",
       " * Author: Unknown Author\n",
       " * Timestamp: Unknown Time\n",
       " * Snippet: Fellow Citizens of the Senate and of the House of "
      ]
     },
     "execution_count": 5,
     "metadata": {},
     "output_type": "execute_result"
    }
   ],
   "source": [
    "fd=FileDocument(pathname)"
   ]
  },
  {
   "cell_type": "code",
   "execution_count": 6,
   "metadata": {},
   "outputs": [
    {
     "data": {
      "text/plain": [
       "Languages.English()"
      ]
     },
     "execution_count": 6,
     "metadata": {},
     "output_type": "execute_result"
    }
   ],
   "source": [
    "language(fd)"
   ]
  },
  {
   "cell_type": "code",
   "execution_count": 7,
   "metadata": {},
   "outputs": [
    {
     "data": {
      "text/plain": [
       "\"Unknown Author\""
      ]
     },
     "execution_count": 7,
     "metadata": {},
     "output_type": "execute_result"
    }
   ],
   "source": [
    "title(fd)\n",
    "author(fd)"
   ]
  },
  {
   "cell_type": "code",
   "execution_count": 8,
   "metadata": {},
   "outputs": [
    {
     "data": {
      "text/plain": [
       "Dict{AbstractString,Int64} with 5094 entries:\n",
       "  \"than three\"           => 1\n",
       "  \"over-reaching treaty\" => 1\n",
       "  \"and from\"             => 1\n",
       "  \"completion of\"        => 1\n",
       "  \"congress ,\"           => 2\n",
       "  \"of revenue\"           => 1\n",
       "  \", 1822\"               => 3\n",
       "  \"Indians were\"         => 1\n",
       "  \"which this\"           => 1\n",
       "  \"colonial ports\"       => 4\n",
       "  \"of experience\"        => 1\n",
       "  \"advantages are\"       => 1\n",
       "  \"council of\"           => 1\n",
       "  \"applied as\"           => 1\n",
       "  \"July 1\"               => 1\n",
       "  \"to a\"                 => 6\n",
       "  \"is interwoven\"        => 1\n",
       "  \"the moment\"           => 2\n",
       "  \"present Government\"   => 1\n",
       "  \"under extended\"       => 1\n",
       "  \"lands and\"            => 1\n",
       "  \"debts contracted\"     => 1\n",
       "  \"foreign nations\"      => 1\n",
       "  \"upon an\"              => 1\n",
       "  \"\\$ 16,886,581.32\"     => 1\n",
       "  ⋮                      => ⋮"
      ]
     },
     "execution_count": 8,
     "metadata": {},
     "output_type": "execute_result"
    }
   ],
   "source": [
    "ngrams(fd,2)"
   ]
  },
  {
   "cell_type": "code",
   "execution_count": 9,
   "metadata": {},
   "outputs": [
    {
     "data": {
      "text/plain": [
       "A Corpus with 1 documents:\n",
       " * 0 StringDocument's\n",
       " * 1 FileDocument's\n",
       " * 0 TokenDocument's\n",
       " * 0 NGramDocument's\n",
       "\n",
       "Corpus's lexicon contains 0 tokens\n",
       "Corpus's index contains 0 tokens"
      ]
     },
     "execution_count": 9,
     "metadata": {},
     "output_type": "execute_result"
    }
   ],
   "source": [
    "crps=Corpus([FileDocument(pathname)])"
   ]
  },
  {
   "cell_type": "code",
   "execution_count": 10,
   "metadata": {},
   "outputs": [
    {
     "data": {
      "text/plain": [
       "Dict{String,Int64}()"
      ]
     },
     "execution_count": 10,
     "metadata": {},
     "output_type": "execute_result"
    }
   ],
   "source": [
    "lexicon(crps)"
   ]
  },
  {
   "cell_type": "code",
   "execution_count": 11,
   "metadata": {},
   "outputs": [
    {
     "data": {
      "text/plain": [
       "Dict{String,Int64} with 1891 entries:\n",
       "  \"1\"               => 8\n",
       "  \"neither.\"        => 1\n",
       "  \"mutual\"          => 5\n",
       "  \"enjoy\"           => 1\n",
       "  \"recommending\"    => 1\n",
       "  \"Cape\"            => 1\n",
       "  \"regular\"         => 1\n",
       "  \"Empire\"          => 1\n",
       "  \"lightly\"         => 1\n",
       "  \"adjusted\"        => 1\n",
       "  \"surveyed\"        => 1\n",
       "  \"during\"          => 2\n",
       "  \"whose\"           => 2\n",
       "  \"concernment\"     => 1\n",
       "  \"favor\"           => 1\n",
       "  \"warrior-patriot\" => 1\n",
       "  \"peace\"           => 7\n",
       "  \"signalized\"      => 1\n",
       "  \"scene\"           => 1\n",
       "  \"giving\"          => 1\n",
       "  \"those\"           => 16\n",
       "  \"sustained\"       => 4\n",
       "  \"5,774,000\"       => 1\n",
       "  \"accommodation\"   => 1\n",
       "  \"remission\"       => 1\n",
       "  ⋮                 => ⋮"
      ]
     },
     "execution_count": 11,
     "metadata": {},
     "output_type": "execute_result"
    }
   ],
   "source": [
    "update_lexicon!(crps)\n",
    "lexicon(crps)"
   ]
  },
  {
   "cell_type": "code",
   "execution_count": 12,
   "metadata": {},
   "outputs": [
    {
     "data": {
      "text/plain": [
       "Dict{String,Array{Int64,1}}()"
      ]
     },
     "execution_count": 12,
     "metadata": {},
     "output_type": "execute_result"
    }
   ],
   "source": [
    "inverse_index(crps)"
   ]
  },
  {
   "cell_type": "code",
   "execution_count": 13,
   "metadata": {},
   "outputs": [
    {
     "data": {
      "text/plain": [
       "Dict{String,Array{Int64,1}} with 1891 entries:\n",
       "  \"1\"               => [1]\n",
       "  \"neither.\"        => [1]\n",
       "  \"mutual\"          => [1]\n",
       "  \"enjoy\"           => [1]\n",
       "  \"recommending\"    => [1]\n",
       "  \"Cape\"            => [1]\n",
       "  \"regular\"         => [1]\n",
       "  \"Empire\"          => [1]\n",
       "  \"lightly\"         => [1]\n",
       "  \"adjusted\"        => [1]\n",
       "  \"surveyed\"        => [1]\n",
       "  \"during\"          => [1]\n",
       "  \"whose\"           => [1]\n",
       "  \"concernment\"     => [1]\n",
       "  \"favor\"           => [1]\n",
       "  \"warrior-patriot\" => [1]\n",
       "  \"peace\"           => [1]\n",
       "  \"signalized\"      => [1]\n",
       "  \"scene\"           => [1]\n",
       "  \"giving\"          => [1]\n",
       "  \"those\"           => [1]\n",
       "  \"sustained\"       => [1]\n",
       "  \"5,774,000\"       => [1]\n",
       "  \"accommodation\"   => [1]\n",
       "  \"remission\"       => [1]\n",
       "  ⋮                 => ⋮"
      ]
     },
     "execution_count": 13,
     "metadata": {},
     "output_type": "execute_result"
    }
   ],
   "source": [
    "update_inverse_index!(crps)\n",
    "inverse_index(crps)"
   ]
  },
  {
   "cell_type": "code",
   "execution_count": 14,
   "metadata": {},
   "outputs": [
    {
     "data": {
      "text/plain": [
       "A 1 X 1891 DocumentTermMatrix"
      ]
     },
     "execution_count": 14,
     "metadata": {},
     "output_type": "execute_result"
    }
   ],
   "source": [
    "mat=DocumentTermMatrix(crps)"
   ]
  },
  {
   "cell_type": "code",
   "execution_count": 15,
   "metadata": {},
   "outputs": [
    {
     "data": {
      "text/plain": [
       "1×1891 SparseArrays.SparseMatrixCSC{Int64,Int64} with 1891 stored entries:\n",
       "  [1,    1]  =  27\n",
       "  [1,    2]  =  4\n",
       "  [1,    3]  =  1\n",
       "  [1,    4]  =  1\n",
       "  [1,    5]  =  365\n",
       "  [1,    6]  =  15\n",
       "  [1,    7]  =  8\n",
       "  [1,    8]  =  1\n",
       "  [1,    9]  =  1\n",
       "  [1,   10]  =  1\n",
       "  [1,   11]  =  2\n",
       "  [1,   12]  =  1\n",
       "  ⋮\n",
       "  [1, 1879]  =  10\n",
       "  [1, 1880]  =  10\n",
       "  [1, 1881]  =  1\n",
       "  [1, 1882]  =  3\n",
       "  [1, 1883]  =  1\n",
       "  [1, 1884]  =  11\n",
       "  [1, 1885]  =  5\n",
       "  [1, 1886]  =  2\n",
       "  [1, 1887]  =  10\n",
       "  [1, 1888]  =  6\n",
       "  [1, 1889]  =  1\n",
       "  [1, 1890]  =  1\n",
       "  [1, 1891]  =  1"
      ]
     },
     "execution_count": 15,
     "metadata": {},
     "output_type": "execute_result"
    }
   ],
   "source": [
    "dtm(mat)"
   ]
  },
  {
   "cell_type": "code",
   "execution_count": 16,
   "metadata": {},
   "outputs": [
    {
     "data": {
      "text/plain": [
       "1×1891 Array{Int64,2}:\n",
       " 27  4  1  1  365  15  8  1  1  1  2  1  …  1  3  1  11  5  2  10  6  1  1  1"
      ]
     },
     "execution_count": 16,
     "metadata": {},
     "output_type": "execute_result"
    }
   ],
   "source": [
    "dtm(mat, :dense)"
   ]
  },
  {
   "cell_type": "code",
   "execution_count": 17,
   "metadata": {},
   "outputs": [
    {
     "data": {
      "text/plain": [
       "1×1891 SparseArrays.SparseMatrixCSC{Float64,Int64} with 1891 stored entries:\n",
       "  [1,    1]  =  0.0\n",
       "  [1,    2]  =  0.0\n",
       "  [1,    3]  =  0.0\n",
       "  [1,    4]  =  0.0\n",
       "  [1,    5]  =  0.0\n",
       "  [1,    6]  =  0.0\n",
       "  [1,    7]  =  0.0\n",
       "  [1,    8]  =  0.0\n",
       "  [1,    9]  =  0.0\n",
       "  [1,   10]  =  0.0\n",
       "  [1,   11]  =  0.0\n",
       "  [1,   12]  =  0.0\n",
       "  ⋮\n",
       "  [1, 1879]  =  0.0\n",
       "  [1, 1880]  =  0.0\n",
       "  [1, 1881]  =  0.0\n",
       "  [1, 1882]  =  0.0\n",
       "  [1, 1883]  =  0.0\n",
       "  [1, 1884]  =  0.0\n",
       "  [1, 1885]  =  0.0\n",
       "  [1, 1886]  =  0.0\n",
       "  [1, 1887]  =  0.0\n",
       "  [1, 1888]  =  0.0\n",
       "  [1, 1889]  =  0.0\n",
       "  [1, 1890]  =  0.0\n",
       "  [1, 1891]  =  0.0"
      ]
     },
     "execution_count": 17,
     "metadata": {},
     "output_type": "execute_result"
    }
   ],
   "source": [
    "tf_idf(mat)"
   ]
  },
  {
   "cell_type": "code",
   "execution_count": 18,
   "metadata": {},
   "outputs": [
    {
     "data": {
      "text/plain": [
       "\"Fellow Citizens of the Senate and of the House of Representatives:\\r\\n\\r\\nA revolution of the seasons has nearly been completed since the\\r\\nrepresentatives of the people and States of this Union were last\\r\\nassembled at this place to deliberate and to act upon the common\\r\\nimportant interests of their constituents. In that interval the never\\r\\nslumbering eye of a wise and beneficent Providence has continued its\\r\\nguardian care over the welfare of our beloved country; the blessing of\\r\\nhealth has continued generally to prevail throughout the land; the\\r\\nblessing of peace with our brethren of the human race has been enjoyed\\r\\nwithout interruption; internal quiet has left our fellow citizens in\\r\\nthe full enjoyment of all their rights and in the free exercise of all\\r\\ntheir faculties, to pursue the impulse of their nature and the\\r\\nobligation of their duty in the improvement of their own condition; the\\r\\nproductions of the soil, the exchanges of commerce, the vivifying\\r\\nlabors of human industry, have combined to mingle in our cup a portion\\r\\nof enjoyment as large and liberal as the indulgence of Heaven has\\r\\nperhaps ever granted to the imperfect state of man upon earth; and as\\r\\nthe purest of human felicity consists in its participation with others,\\r\\nit is no small addition to the sum of our national happiness at this\\r\\ntime that peace and prosperity prevail to a degree seldom experienced\\r\\nover the whole habitable globe, presenting, though as yet with painful\\r\\nexceptions, a foretaste of that blessed period of promise when the lion\\r\\nshall lie down with the lamb and wars shall be no more.\\r\\n\\r\\nTo preserve, to improve, and to perpetuate the sources and to direct in\\r\\ntheir most effective channels the streams which contribute to the\\r\\npublic weal is the purpose for which Government was instituted. Objects\\r\\nof deep importance to the welfare of the Union are constantly recurring\\r\\nto demand the attention of the Federal Legislature, and they call with\\r\\naccumulated interest at the first meeting of the two Houses after their\\r\\nperiodical renovation. To present to their consideration from time to\\r\\ntime subjects in which the interests of the nation are most deeply\\r\\ninvolved, and for the regulation of which the legislative will is alone\\r\\ncompetent, is a duty prescribed by the Constitution, to the performance\\r\\nof which the first meeting of the new Congress is a period eminently\\r\\nappropriate, and which it is now my purpose to discharge.\\r\\n\\r\\nOur relations of friendship with the other nations of the earth,\\r\\npolitical and commercial, have been preserved unimpaired, and the\\r\\nopportunities to improve them have been cultivated with anxious and\\r\\nunremitting attention. A negotiation upon subjects of high and delicate\\r\\ninterest with the Government of Great Britain has terminated in the\\r\\nadjustment of some of the questions at issue upon satisfactory terms\\r\\nand the postponement of others for future discussion and agreement.\\r\\n\\r\\nThe purposes of the convention concluded at St. Petersburg on July\\r\\n12th, 1822, under the mediation of the late Emperor Alexander, have\\r\\nbeen carried into effect by a subsequent convention, concluded at\\r\\nLondon on November 13th, 1826, the ratifications of which were\\r\\nexchanged at that place on February 6th, 1827. A copy of the\\r\\nproclamations issued on March 19th, 1827, publishing this convention,\\r\\nis herewith communicated to Congress. The sum of \\$1,204,960, therein\\r\\nstipulated to be paid to the claimants of indemnity under the first\\r\\narticle of the treaty of Ghent, has been duly received, and the\\r\\ncommission instituted, conformably to the act of Congress of March 2d,\\r\\n1827, for the distribution of the indemnity of the persons entitled to\\r\\nreceive it are now in session and approaching the consummation of their\\r\\nlabors. This final disposal of one of the most painful topics of\\r\\ncollision between the United States and Great Britain not only affords\\r\\nan occasion of gratulation to ourselves, but has had the happiest\\r\\neffect in promoting a friendly disposition and in softening asperities\\r\\nupon other objects of discussion; nor ought it to pass without the\\r\\ntribute of a frank and cordial acknowledgment of the magnanimity with\\r\\nwhich an honorable nation, by the reparation of their own wrongs,\\r\\nachieves a triumph more glorious than any field of blood can ever\\r\\nbestow.\\r\\n\\r\\nThe conventions of March 7th, 1815, and of October 20th, 1818, will\\r\\nexpire by their own limitation on October 20th, 1828. These have\\r\\nregulated the direct commercial intercourse between the United States\\r\\nand Great Britain upon terms of the most perfect reciprocity; and they\\r\\neffected a temporary compromise of the respective rights and claims to\\r\\nterritory westward of the Rocky Mountains. These arrangements have been\\r\\ncontinued for an indefinite period of time after the expiration of the\\r\\nabove mentioned conventions, leaving each party the liberty of\\r\\nterminating them by giving twelve months' notice to the other.\\r\\n\\r\\nThe radical principle of all commercial intercourse between independent\\r\\nnations is the mutual interest of both parties. It is the vital spirit\\r\\nof trade itself; nor can it be reconciled to the nature of man or to\\r\\nthe primary laws of human society that any traffic should long be\\r\\nwillingly pursued of which all the advantages are on one side and all\\r\\nthe burdens on the other. Treaties of commerce have been found by\\r\\nexperience to be among the most effective instruments for promoting\\r\\npeace and harmony between nations whose interests, exclusively\\r\\nconsidered on either side, are brought into frequent collisions by\\r\\ncompetition. In framing such treaties it is the duty of each party not\\r\\nsimply to urge with unyielding pertinacity that which suits its own\\r\\ninterest, but to concede liberally to that which is adapted to the\\r\\ninterest of the other.\\r\\n\\r\\nTo accomplish this, little more is generally required than a simple\\r\\nobservance of the rule of reciprocity, and were it possible for the\\r\\nstates-men of one nation by stratagem and management to obtain from\\r\\nthe weakness or ignorance of another an over-reaching treaty, such a\\r\\ncompact would prove an incentive to war rather than a bond of peace.\\r\\n\\r\\nOur conventions with Great Britain are founded upon the principles of\\r\\nreciprocity. The commercial intercourse between the two countries is\\r\\ngreater in magnitude and amount than between any two other nations on\\r\\nthe globe. It is for all purposes of benefit or advantage to both as\\r\\nprecious, and in all probability far more extensive, than if the\\r\\nparties were still constituent parts of one and the same nation.\\r\\nTreaties between such States, regulating the intercourse of peace\\r\\nbetween them and adjusting interests of such transcendent importance to\\r\\nboth, which have been found in a long experience of years mutually\\r\\nadvantageous, should not be lightly cancelled or discontinued. Two\\r\\nconventions for continuing in force those above mentioned have been\\r\\nconcluded between the plenipotentiaries of the two Governments on\\r\\nAugust 6th, 1827, and will be forthwith laid before the Senate for the\\r\\nexercise of their constitutional authority concerning them.\\r\\n\\r\\nIn the execution of the treaties of peace of November, 1782 and\\r\\nSeptember, 1783, between the United States and Great Britain, and which\\r\\nterminated the war of our independence, a line of boundary was drawn as\\r\\nthe demarcation of territory between the two countries, extending over\\r\\nnearly 20 degrees of latitude, and ranging over seas, lakes, and\\r\\nmountains, then very imperfectly explored and scarcely opened to the\\r\\ngeographical knowledge of the age. In the progress of discovery and\\r\\nsettlement by both parties since that time several questions of\\r\\nboundary between their respective territories have arisen, which have\\r\\nbeen found of exceedingly difficult adjustment.\\r\\n\\r\\nAt the close of the last war with Great Britain four of these questions\\r\\npressed themselves upon the consideration of the negotiators of the\\r\\ntreaty of Ghent, but without the means of concluding a definitive\\r\\narrangement concerning them. They were referred to three separate\\r\\ncommissions consisting, of two commissioners, one appointed by each\\r\\nparty, to examine and decide upon their respective claims. In the event\\r\\nof a disagreement between the commissioners, one appointed by each\\r\\nparty, to examine and decide upon their respective claims. In the event\\r\\nof a disagreement between the commissioners it was provided that they\\r\\nshould make reports to their several Governments, and that the reports\\r\\nshould finally be referred to the decision of a sovereign the common\\r\\nfriend of both.\\r\\n\\r\\nOf these commissions two have already terminated their sessions and\\r\\ninvestigations, one by entire and the other by partial agreement. The\\r\\ncommissioners of the 5th article of the treaty of Ghent have finally\\r\\ndisagreed, and made their conflicting reports to their own Governments.\\r\\nBut from these reports a great difficulty has occurred in making up a\\r\\nquestion to be decided by the arbitrator. This purpose has, however,\\r\\nbeen effected by a 4th convention, concluded at London by the\\r\\nplenipotentiaries of the two Governments on September 29th, 1827. It\\r\\nwill be submitted, together with the others, to the consideration of\\r\\nthe Senate.\\r\\n\\r\\nWhile these questions have been pending incidents have occurred of\\r\\nconflicting pretensions and of dangerous character upon the territory\\r\\nitself in dispute between the two nations. By a common understanding\\r\\nbetween the Governments it was agreed that no exercise of exclusive\\r\\njurisdiction by either party while the negotiation was pending should\\r\\nchange the state of the question of right to be definitively settled.\\r\\nSuch collision has, never the less, recently taken place by occurrences\\r\\nthe precise character of which has not yet been ascertained. A\\r\\ncommunication from the governor of the State of Maine, with\\r\\naccompanying documents, and a correspondence between the Secretary of\\r\\nState and the minister of Great Britain on this subject are now\\r\\ncommunicated. Measures have been taken to ascertain the state of the\\r\\nfacts more correctly by the employment of a special agent to visit the\\r\\nspot where the alleged outrages have occurred, the result of those\\r\\ninquiries, when received, will be transmitted to Congress.\\r\\n\\r\\nWhile so many of the subjects of high interest to the friendly\\r\\nrelations between the two countries have been so far adjusted, it is a\\r\\nmatter of regret that their views respecting the commercial intercourse\\r\\nbetween the United States and the British colonial possessions have not\\r\\nequally approximated to a friendly agreement.\\r\\n\\r\\nAt the commencement of the last session of Congress they were informed\\r\\nof the sudden and unexpected exclusion by the British Government of\\r\\naccess in vessels of the United States to all their colonial ports\\r\\nexcept those immediately bordering upon our own territories. In the\\r\\namicable discussions which have succeeded the adoption of this measure\\r\\nwhich, as it affected harshly the interests of the United States,\\r\\nbecame subject of expostulation on our part, the principles upon which\\r\\nits justification has been placed have been of a diversified character.\\r\\nIt has been at once ascribed to a mere recurrence to the old, long\\r\\nestablished principle of colonial monopoly and at the same time to a\\r\\nfeeling of resentment because the offers of an act of Parliament\\r\\nopening the colonial ports upon certain conditions had not been grasped\\r\\nat with sufficient eagerness by an instantaneous conformity to them.\\r\\n\\r\\nAt a subsequent period it has been intimated that the new exclusion was\\r\\nin resentment because a prior act of Parliament, of 1822, opening\\r\\ncertain colonial ports, under heavy and burdensome restrictions, to\\r\\nvessels of the United States, had not been reciprocated by an admission\\r\\nof British vessels from the colonies, and their cargoes, without any\\r\\nrestriction or discrimination what ever. But be the motive for the\\r\\ninterdiction what it may, the British Government have manifested no\\r\\ndisposition, either by negotiation or by corresponding legislative\\r\\nenactments, to recede from it, and we have been given distinctly to\\r\\nunderstand that neither of the bills which were under the consideration\\r\\nof Congress at their last session would have been deemed sufficient in\\r\\ntheir concessions to have been rewarded by any relaxation from the\\r\\nBritish interdict. It is one of the inconveniences inseparably\\r\\nconnected with the attempt to adjust by reciprocal legislation\\r\\ninterests of this nature that neither party can know what would be\\r\\nsatisfactory to the other, and that after enacting a statute for the\\r\\navowed and sincere purpose of conciliation it will generally be found\\r\\nutterly inadequate to the expectation of the other party, and will\\r\\nterminate in mutual disappointment.\\r\\n\\r\\nThe session of Congress having terminated without any act upon the\\r\\nsubject, a proclamation was issued on March 17, 1827, conformably to\\r\\nthe provisions of the 6th section of the act of March 3rd, 1823\\r\\ndeclaring the fact that the trade and intercourse authorized by the\\r\\nBritish act of Parliament of June 24th, 1822, between the United States\\r\\nand the British enumerated colonial ports had been by the subsequent\\r\\nacts of Parliament of July 5th, 1825, and the order of council of July\\r\\n27th, 1826 prohibited. The effect of this proclamation, by the terms of\\r\\nthe act under which it was issued, has been that each and every\\r\\nprovision of the act concerning navigation of April 18th, 1818, and of\\r\\nthe act supplementary thereto of May 15th, 1820, revived and is in full\\r\\nforce.\\r\\n\\r\\nSuch, then is the present condition of the trade that, useful as it is\\r\\nto both parties it can, with a single momentary exception, be carried\\r\\non directly by the vessels of neither. That exception itself is found\\r\\nin a proclamation of the governor of the island of St. Christopher and\\r\\nof the Virgin Islands, inviting for three months from August 28th, 1827\\r\\nthe importation of the articles of the produce of the United States\\r\\nwhich constitute their export portion of this trade in the vessels of\\r\\nall nations.\\r\\n\\r\\nThat period having already expired, the state of mutual interdiction\\r\\nhas again taken place. The British Government have not only declined\\r\\nnegotiation upon this subject, but by the principle they have assumed\\r\\nwith reference to it have precluded even the means of negotiation. It\\r\\nbecomes not the self respect of the United States either to solicit\\r\\ngratuitous favors or to accept as the grant of a favor that for which\\r\\nan ample equivalent is exacted. It remains to be determined by the\\r\\nrespective Governments whether the trade shall be opened by acts of\\r\\nreciprocal legislation. It is, in the mean time, satisfactory to know\\r\\nthat apart from the inconvenience resulting from a disturbance of the\\r\\nusual channels of trade no loss has been sustained by the commerce, the\\r\\nnavigation, or the revenue of the United States, and none of magnitude\\r\\nis to be apprehended from this existing state of mutual interdict.\\r\\n\\r\\nWith the other maritime and commercial nations of Europe our\\r\\nintercourse continues with little variation. Since the cessation by the\\r\\nconvention of June 24th, 1822, of all discriminating duties upon the\\r\\nvessels of the United States and of France in either country our trade\\r\\nwith that nation has increased and is increasing. A disposition on the\\r\\npart of France has been manifested to renew that negotiation, and in\\r\\nacceding to the proposal we have expressed the wish that it might be\\r\\nextended to other subjects upon which a good understanding between the\\r\\nparties would be beneficial to the interests of both.\\r\\n\\r\\nThe origin of the political relations between the United States and\\r\\nFrance is coeval with the first years of our independence. The memory\\r\\nof it is interwoven with that of our arduous struggle for national\\r\\nexistence. Weakened as it has occasionally been since that time, it can\\r\\nby us never be forgotten, and we should hail with exultation the moment\\r\\nwhich should indicate a recollection equally friendly in spirit on the\\r\\npart of France.\\r\\n\\r\\nA fresh effort has recently been made by the minister of the United\\r\\nStates residing at Paris to obtain a consideration of the just claims\\r\\nof citizens of the United States to the reparation of wrongs long since\\r\\ncommitted, many of them frankly acknowledged and all of them entitled\\r\\nupon every principle of justice to a candid examination. The proposal\\r\\nlast made to the French Government has been to refer the subject which\\r\\nhas formed an obstacle to this consideration to the determination of a\\r\\nsovereign the common friend of both. To this offer no definitive answer\\r\\nhas yet been received, but the gallant and honorable spirit which has\\r\\nat all times been the pride and glory of France will not ultimately\\r\\npermit the demands of innocent sufferers to be extinguished in the mere\\r\\nconsciousness of the power to reject them.\\r\\n\\r\\nA new treaty of amity, navigation, and commerce has been concluded with\\r\\nthe Kingdom of Sweden, which will be submitted to the Senate for their\\r\\nadvice with regard to its ratification. At a more recent date a\\r\\nminister plenipotentiary from the Hanseatic Republics of Hamburg,\\r\\nLubeck, and Bremen has been received, charged with a special mission\\r\\nfor the negotiation of a treaty of amity and commerce between that\\r\\nancient and renowned league and the United States. This negotiation has\\r\\naccordingly been commenced, and is now in progress, the result of which\\r\\nwill, if successful, be also submitted to the Senate for their\\r\\nconsideration.\\r\\n\\r\\nSince the accession of the Emperor Nicholas to the imperial throne of\\r\\nall the Russias the friendly dispositions toward the United States so\\r\\nconstantly manifested by his predecessor have continued unabated, and\\r\\nhave been recently testified by the appointment of a minister\\r\\nplenipotentiary to reside at this place. From the interest taken by\\r\\nthis Sovereign in behalf of the suffering Greeks and from the spirit\\r\\nwith which others of the great European powers are cooperating with him\\r\\nthe friends of freedom and of humanity may indulge the hope that they\\r\\nwill obtain relief from that most unequal of conflicts which they have\\r\\nso long and so gallantly sustained; that they will enjoy the blessing\\r\\nof self government, which by their sufferings in the cause of liberty\\r\\nthey have richly earned, and that their independence will be secured by\\r\\nthose liberal institutions of which their country furnished the\\r\\nearliest examples in the history of man-kind, and which have\\r\\nconsecrated to immortal remembrance the very soil for which they are\\r\\nnow again profusely pouring forth their blood. The sympathies which the\\r\\npeople and Government of the United States have so warmly indulged with\\r\\ntheir cause have been acknowledged by their Government in a letter of\\r\\nthanks, which I have received from their illustrious President, a\\r\\ntranslation of which is now communicated to Congress, the\\r\\nrepresentatives of that nation to whom this tribute of gratitude was\\r\\nintended to be paid, and to whom it was justly due.\\r\\n\\r\\nIn the American hemisphere the cause of freedom and independence has\\r\\ncontinued to prevail, and if signalized by none of those splendid\\r\\ntriumphs which had crowned with glory some of the preceding years it\\r\\nhas only been from the banishment of all external force against which\\r\\nthe struggle had been maintained. The shout of victory has been\\r\\nsuperseded by the expulsion of the enemy over whom it could have been\\r\\nachieved.\\r\\n\\r\\nOur friendly wishes and cordial good will, which have constantly\\r\\nfollowed the southern nations of America in all the vicissitudes of\\r\\ntheir war of independence, are succeeded by a solicitude equally ardent\\r\\nand cordial that by the wisdom and purity of their institutions they\\r\\nmay secure to themselves the choicest blessings of social order and the\\r\\nbest rewards of virtuous liberty. Disclaiming alike all right and all\\r\\nintention of interfering in those concerns which it is the prerogative\\r\\nof their independence to regulate as to them shall seem fit, we hail\\r\\nwith joy every indication of their prosperity, of their harmony, of\\r\\ntheir persevering and inflexible homage to those principles of freedom\\r\\nand of equal rights which are alone suited to the genius and temper of\\r\\nthe American nations.\\r\\n\\r\\nIt has been, therefore, with some concern that we have observed\\r\\nindications of intestine divisions in some of the Republics of the\\r\\nsouth, and appearances of less union with one another than we believe\\r\\nto be the interest of all. Among the results of this state of things\\r\\nhas been that the treaties concluded at Panama do not appear to have\\r\\nbeen ratified by the contracting parties, and that the meeting of the\\r\\ncongress at Tacubaya has been indefinitely postponed. In accepting the\\r\\ninvitations to be represented at this congress, while a manifestation\\r\\nwas intended on the part of the United States of the most friendly\\r\\ndisposition toward the southern Republics by whom it had been proposed,\\r\\nit was hoped that it would furnish an opportunity for bringing all the\\r\\nnations of this hemisphere to the common acknowledgment and adoption of\\r\\nthe principles in the regulation of their internal relations which\\r\\nwould have secured a lasting peace and harmony between them and have\\r\\npromoted the cause of mutual benevolence throughout the globe. But as\\r\\nobstacles appear to have arisen to the reassembling of the congress,\\r\\none of the two ministers commissioned on the part of the United States\\r\\nhas returned to the bosom of his country, while the minister charged\\r\\nwith the ordinary mission to Mexico remains authorized to attend the\\r\\nconferences of the congress when ever they may be resumed.\\r\\n\\r\\nA hope was for a short time entertained that a treaty of peace actually\\r\\nsigned between the Government of Buenos Ayres and of Brazil would\\r\\nsupersede all further occasion for those collisions between belligerent\\r\\npretensions and neutral rights which are so commonly the result of\\r\\nmaritime war, and which have unfortunately disturbed the harmony of the\\r\\nrelations between the United States and the Brazilian Governments. At\\r\\ntheir last session Congress were informed that some of the naval\\r\\nofficers of that Empire had advanced and practiced upon principles in\\r\\nrelation to blockades and to neutral navigation which we could not\\r\\nsanction, and which our commanders found it necessary to resist. It\\r\\nappears that they have not been sustained by the Government of Brazil\\r\\nitself. Some of the vessels captured under the assumed authority of\\r\\nthese erroneous principles have been restored, and we trust that our\\r\\njust expectations will be realized that adequate indemnity will be made\\r\\nto all the citizens of the United States who have suffered by the\\r\\nunwarranted captures which the Brazilian tribunals themselves have\\r\\npronounced unlawful.\\r\\n\\r\\nIn the diplomatic discussions at Rio de Janeiro of these wrongs\\r\\nsustained by citizens of the United States and of others which seemed\\r\\nas if emanating immediately from that Government itself the charge\\r\\nd'affaires of the United States, under an impression that his\\r\\nrepresentations in behalf of the rights and interests of his country-\\r\\nmen were totally disregarded and useless, deemed it his duty, without\\r\\nwaiting for instructions, to terminate his official functions, to\\r\\ndemand his pass-ports, and return to the United States. This movement,\\r\\ndictated by an honest zeal for the honor and interests of his country--\\r\\nmotives which operated exclusively on the mind of the officer who\\r\\nresorted to it--has not been disapproved by me.\\r\\n\\r\\nThe Brazilian Government, however, complained of it as a measure for\\r\\nwhich no adequate intentional cause had been given by them, and upon an\\r\\nexplicit assurance through their charge d'affaires residing here that a\\r\\nsuccessor to the late representative of the United States near that\\r\\nGovernment, the appointment of whom they desired, should be received\\r\\nand treated with the respect due to his character, and that indemnity\\r\\nshould be promptly made for all injuries inflicted on citizens of the\\r\\nUnited States or their property contrary to the laws of nations, a\\r\\ntemporary commission as charge d'affaires to that country has been\\r\\nissued, which it is hopes will entirely restore the ordinary diplomatic\\r\\nintercourse between the two Governments and the friendly relations\\r\\nbetween their respective nations.\\r\\n\\r\\nTurning from the momentous concerns of our Union in its intercourse\\r\\nwith foreign nations to those of the deepest interest in the\\r\\nadministration of our internal affairs, we find the revenues of the\\r\\npresent year corresponding as nearly as might be expected with the\\r\\nanticipations of the last, and presenting an aspect still more\\r\\nfavorable in the promise of the next.\\r\\n\\r\\nThe balance in the Treasury on January 1st, 1827 was \\$6,358,686.18. The\\r\\nreceipts from that day to September 30th, 1827, as near as the returns\\r\\nof them yet received can show, amount to \\$16,886,581.32. The receipts\\r\\nof the present quarter, estimated at \\$4,515,000, added to the above\\r\\nform an aggregate of \\$21,400,000 of receipts.\\r\\n\\r\\nThe expenditures of the year may perhaps amount to \\$22,300,000\\r\\npresenting a small excess over the receipts. But of these \\$22,000,000,\\r\\nupward of \\$6,000,000 have been applied to the discharge of the\\r\\nprincipal of the public debt, the whole amount of which, approaching\\r\\n\\$74,000,000 on January 1st, 1827, will on January 1st, 1828 fall short\\r\\nof \\$67,500,000. The balance in the Treasury on January 1st, 1828 it is\\r\\nexpected will exceed \\$5,450,000, a sum exceeding that of January 1st,\\r\\n1825, though falling short of that exhibited on January 1st, 1827.\\r\\n\\r\\nIt was foreseen that the revenue of the present year 1827 would not\\r\\nequal that of the last, which had itself been less than that of the\\r\\nnext preceding year. But the hope has been realized which was\\r\\nentertained, that these deficiencies would in no wise interrupt the\\r\\nsteady operation of the discharge of the public debt by the annual\\r\\n\\$10,000,000 devoted to that object by the act of March 3d, 1817.\\r\\n\\r\\nThe amount of duties secured on merchandise imported from the\\r\\ncommencement of the year until September 30th, 1827 is \\$21,226,000, and\\r\\nthe probably amount of that which will be secured during the remainder\\r\\nof the year is \\$5,774,000, forming a sum total of \\$27,000,000. With the\\r\\nallowances for draw-backs and contingent deficiencies which may occur,\\r\\nthough not specifically foreseen, we may safely estimate the receipts\\r\\nof the ensuing year at \\$22,300,000--a revenue for the next equal to the\\r\\nexpenditure of the present year.\\r\\n\\r\\nThe deep solicitude felt by our citizens of all classes throughout the\\r\\nUnion for the total discharge of the public debt will apologize for the\\r\\nearnestness with which I deem it my duty to urge this topic upon the\\r\\nconsideration of Congress--of recommending to them again the observance\\r\\nof the strictest economy in the application of the public funds. The\\r\\ndepression upon the receipts of the revenue which had commenced with\\r\\nthe year 1826 continued with increased severity during the two first\\r\\nquarters of the present year.\\r\\n\\r\\nThe returning tide began to flow with the third quarter, and, so far as\\r\\nwe can judge from experience, may be expected to continue through the\\r\\ncourse of the ensuing year. In the mean time an alleviation from the\\r\\nburden of the public debt will in the three years have been effected to\\r\\nthe amount of nearly \\$16,000,000, and the charge of annual interest\\r\\nwill have been reduced upward of \\$1,000,000. But among the maxims of\\r\\npolitical economy which the stewards of the public moneys should never\\r\\nsuffer without urgent necessity to be transcended is that of keeping\\r\\nthe expenditures of the year within the limits of its receipts.\\r\\n\\r\\nThe appropriations of the two last years, including the yearly\\r\\n\\$10,000,000 of the sinking fund, have each equaled the promised revenue\\r\\nof the ensuing year. While we foresee with confidence that the public\\r\\ncoffers will be replenished from the receipts as fast as they will be\\r\\ndrained by the expenditures, equal in amount to those of the current\\r\\nyear, it should not be forgotten that they could ill suffer the\\r\\nexhaustion of larger disbursements.\\r\\n\\r\\nThe condition of the Army and of all the branches of the public service\\r\\nunder the superintendence of the Secretary of War will be seen by the\\r\\nreport from that officer and the documents with which it is\\r\\naccompanied.\\r\\n\\r\\nDuring the last summer a detachment of the Army has been usefully and\\r\\nsuccessfully called to perform their appropriate duties. At the moment\\r\\nwhen the commissioners appointed for carrying into execution certain\\r\\nprovisions of the treaty of August 19th, 1825, with various tribes of\\r\\nthe North Western Indians were about to arrive at the appointed place\\r\\nof meeting the unprovoked murder of several citizens and other acts of\\r\\nunequivocal hostility committed by a party of the Winnebago tribe, one\\r\\nof those associated in the treaty, followed by indications of a\\r\\nmenacing character among other tribes of the same region, rendered\\r\\nnecessary an immediate display of the defensive and protective force of\\r\\nthe Union in that quarter.\\r\\n\\r\\nIt was accordingly exhibited by the immediate and concerted movements\\r\\nof the governors of the State of Illinois and of the Territory of\\r\\nMichigan, and competent levies of militia, under their authority, with\\r\\na corps of 700 men of United States troops, under the command of\\r\\nGeneral Atkinson, who, at the call of Governor Cass, immediately\\r\\nrepaired to the scene of danger from their station at St. Louis. Their\\r\\npresence dispelled the alarms of our fellow citizens on those\\r\\ndisorders, and overawed the hostile purposes of the Indians. The\\r\\nperpetrators of the murders were surrendered to the authority and\\r\\noperation of our laws, and every appearance of purposed hostility from\\r\\nthose Indian tribes has subsided.\\r\\n\\r\\nAlthough the present organization of the Army and the administration of\\r\\nits various branches of service are, upon the whole, satisfactory, they\\r\\nare yet susceptible of much improvement in particulars, some of which\\r\\nhave been heretofore submitted to the consideration of Congress, and\\r\\nothers are now first presented in the report of the Secretary of War.\\r\\n\\r\\nThe expediency of providing for additional numbers of officers in the\\r\\ntwo corps of engineers will in some degree depend upon the number and\\r\\nextent of the objects of national importance upon which Congress may\\r\\nthink it proper that surveys should be made conformably to the act of\\r\\nApril 30th, 1824. Of the surveys which before the last session of\\r\\nCongress had been made under the authority of that act, reports were\\r\\nmade--Of the Board of Internal Improvement, on the Chesapeake and Ohio\\r\\nCanal. On the continuation of the national road from Cumberland to the\\r\\ntide waters within the District of Columbia. On the continuation of the\\r\\nnational road from Canton to Zanesville. On the location of the\\r\\nnational road from Zanesville to Columbus. On the continuation of the\\r\\nsame to the seat of government in Missouri. On a post road from\\r\\nBaltimore to Philadelphia. Of a survey of Kennebec River (in part). On\\r\\na national road from Washington to Buffalo. On the survey of Saugatuck\\r\\nHarbor and River. On a canal from Lake Pont Chartrain to the\\r\\nMississippi River. On surveys at Edgartown, Newburyport, and Hyannis\\r\\nHarbor. On survey of La Plaisance Bay, in the Territory of Michigan.\\r\\nAnd reports are now prepared and will be submitted to Congress--On\\r\\nsurveys of the peninsula of Florida, to ascertain the practicability of\\r\\na canal to connect the waters of the Atlantic with the Gulf of Mexico\\r\\nacross that peninsula; and also of the country between the bays of\\r\\nMobile and of Pensacola, with the view of connecting them together by a\\r\\ncanal. On surveys of a route for a canal to connect the waters of James\\r\\nand Great Kenhawa rivers. On the survey of the Swash, in Pamlico Sound,\\r\\nand that of Cape Fear, below the town of Wilmington, in North Carolina.\\r\\nOn the survey of the Muscle Shoals, in the Tennessee River, and for a\\r\\nroute for a contemplated communication between the Hiwassee and Coosa\\r\\nrivers, in the State of Alabama. Other reports of surveys upon objects\\r\\npointed out by the several acts of Congress of the last and preceding\\r\\nsessions are in the progress of preparation, and most of them may be\\r\\ncompleted before the close of this session. All the officers of both\\r\\ncorps of engineers, with several other persons duly qualified, have\\r\\nbeen constantly employed upon these services from the passage of the\\r\\nact of April 30th, 1824, to this time.\\r\\n\\r\\nWere no other advantage to accrue to the country from their labors than\\r\\nthe fund of topographical knowledge which they have collected and\\r\\ncommunicated, that alone would have been a profit to the Union more\\r\\nthan adequate to all the expenditures which have been devoted to the\\r\\nobject; but the appropriations for the repair and continuation of the\\r\\nCumberland road, for the construction of various other roads, for the\\r\\nremoval of obstructions from the rivers and harbors, for the erection\\r\\nof light houses, beacons, piers, and buoys, and for the completion of\\r\\ncanals undertaken by individual associations, but needing the\\r\\nassistance of means and resources more comprehensive than individual\\r\\nenterprise can command, may be considered rather as treasures laid up\\r\\nfrom the contributions of the present age for the benefit of posterity\\r\\nthan as unrequited applications of the accruing revenues of the nation.\\r\\n\\r\\nTo such objects of permanent improvement to the condition of the\\r\\ncountry, of real addition to the wealth as well as to the comfort of\\r\\nthe people by whose authority and resources they have been effected,\\r\\nfrom \\$3,000,000 to \\$4,000,000 of the annual income of the nation have,\\r\\nby laws enacted at the three most recent sessions of Congress, been\\r\\napplied, without intrenching upon the necessities of the Treasury,\\r\\nwithout adding a dollar to the taxes or debts of the community, without\\r\\nsuspending even the steady and regular discharge of the debts\\r\\ncontracted in former days, which within the same three years have been\\r\\ndiminished by the amount of nearly \\$16,000,000.\\r\\n\\r\\nThe same observations are in a great degree applicable to the\\r\\nappropriations made for fortifications upon the coasts and harbors of\\r\\nthe United States, for the maintenance of the Military Academy at West\\r\\nPoint, and for the various objects under the superintendence of the\\r\\nDepartment of the Navy. The report from the Secretary of the Navy and\\r\\nthose from the subordinate branches of both the military departments\\r\\nexhibit to Congress in minute detail the present condition of the\\r\\npublic establishments dependent upon them, the execution of the acts of\\r\\nCongress relating to them, and the views of the officers engaged in the\\r\\nseveral branches of the service concerning the improvements which may\\r\\ntend to their perfection.\\r\\n\\r\\nThe fortification of the coasts and the gradual increase and\\r\\nimprovement of the Navy are parts of a great system of national defense\\r\\nwhich has been upward of ten years in progress, and which for a series\\r\\nof years to come will continue to claim the constant and persevering\\r\\nprotection and superintendence of the legislative authority. Among the\\r\\nmeasures which have emanated from these principles the act of the last\\r\\nsession of Congress for the gradual improvement of the Navy holds a\\r\\nconspicuous place. The collection of timber for the future construction\\r\\nof vessels of war, the preservation and reproduction of the species of\\r\\ntimber peculiarly adapted to that purpose, the construction of dry\\r\\ndocks for the use of the Navy, the erection of a marine railway for the\\r\\nrepair of the public ships, and the improvement of the navy yards for\\r\\nthe preservation of the public property deposited in them have all\\r\\nreceived from the Executive the attention required by that act, and\\r\\nwill continue to receive it, steadily proceeding toward the execution\\r\\nof all its purposes.\\r\\n\\r\\nThe establishment of a naval academy, furnishing the means of theoretic\\r\\ninstruction to the youths who devote their lives to the service of\\r\\ntheir country upon the ocean, still solicits the sanction of the\\r\\nLegislature. Practical seamanship and the art of navigation may be\\r\\nacquired on the cruises of the squadrons which from time to time are\\r\\ndispatched to distant seas, but a competent knowledge even of the art\\r\\nof ship building, the higher mathematics, and astronomy; the literature\\r\\nwhich can place our officers on a level of polished education with the\\r\\nofficers of other maritime nations; the knowledge of the laws,\\r\\nmunicipal and national, which in their intercourse with foreign states\\r\\nand their governments are continually called into operation, and, above\\r\\nall, that acquaintance with the principles of honor and justice, with\\r\\nthe higher obligations of morals and of general laws, human and divine,\\r\\nwhich constitutes the great distinction between the warrior-patriot and\\r\\nthe licensed robber and pirate--these can be systematically taught and\\r\\neminently acquired only in a permanent school, stationed upon the shore\\r\\nand provided with the teachers, the instruments, and the books\\r\\nconversant with and adapted to the communication of the principles of\\r\\nthese respective sciences to the youthful and inquiring mind.\\r\\n\\r\\nThe report from the Post Master General exhibits the condition of that\\r\\nDepartment as highly satisfactory for the present and still more\\r\\npromising for the future. Its receipts for the year ending July 1st,\\r\\n1827 amounted to \\$1,473,551, and exceeded its expenditures by upward of\\r\\n\\$100,000. It can not be an over sanguine estimate to predict that in\\r\\nless than ten years, of which half have elapsed, the receipts will have\\r\\nbeen more than doubled.\\r\\n\\r\\nIn the mean time a reduced expenditure upon established routes has kept\\r\\npace with increased facilities of public accommodation and additional\\r\\nservices have been obtained at reduced rates of compensation. Within\\r\\nthe last year the transportation of the mail in stages has been greatly\\r\\naugmented. The number of post offices has been increased to 7,000, and\\r\\nit may be anticipated that while the facilities of intercourse between\\r\\nfellow citizens in person or by correspondence will soon be carried to\\r\\nthe door of every villager in the Union, a yearly surplus of revenue\\r\\nwill accrue which may be applied as the wisdom of Congress under the\\r\\nexercise of their constitutional powers may devise for the further\\r\\nestablishment and improvement of the public roads, or by adding still\\r\\nfurther to the facilities in the transportation of the mails. Of the\\r\\nindications of the prosperous condition of our country, none can be\\r\\nmore pleasing than those presented by the multiplying relations of\\r\\npersonal and intimate intercourse between the citizens of the Union\\r\\ndwelling at the remotest distances from each other.\\r\\n\\r\\nAmong the subjects which have heretofore occupied the earnest\\r\\nsolicitude and attention of Congress is the management and disposal of\\r\\nthat portion of the property of the nation which consists of the public\\r\\nlands. The acquisition of them, made at the expense of the whole Union,\\r\\nnot only in treasury but in blood, marks a right of property in them\\r\\nequally extensive. By the report and statements from the General Land\\r\\nOffice now communicated it appears that under the present Government of\\r\\nthe United States a sum little short of \\$33,000,000 has been paid from\\r\\nthe common Treasury for that portion of this property which has been\\r\\npurchased from France and Spain, and for the extinction of the\\r\\naboriginal titles. The amount of lands acquired is near 260,000,000\\r\\nacres, of which on January 1st, 1826, about 139,000,000 acres had been\\r\\nsurveyed, and little more than 19,000,000 acres had been sold. The\\r\\namount paid into the Treasury by the purchasers of the public lands\\r\\nsold is not yet equal to the sums paid for the whole, but leaves a\\r\\nsmall balance to be refunded. The proceeds of the sales of the lands\\r\\nhave long been pledged to the creditors of the nation, a pledge from\\r\\nwhich we have reason to hope that they will in a very few years be\\r\\nredeemed.\\r\\n\\r\\nThe system upon which this great national interest has been managed was\\r\\nthe result of long, anxious, and persevering deliberation. Matured and\\r\\nmodified by the progress of our population and the lessons of\\r\\nexperience, it has been hitherto eminently successful. More than nine\\r\\ntenths of the lands still remain the common property of the Union, the\\r\\nappropriation and disposal of which are sacred trusts in the hands of\\r\\nCongress.\\r\\n\\r\\nOf the lands sold, a considerable part were conveyed under extended\\r\\ncredits, which in the vicissitudes and fluctuations in the value of\\r\\nlands and of their produce became oppressively burdensome to the\\r\\npurchasers. It can never be the interest or the policy of the nation to\\r\\nwring from its own citizens the reasonable profits of their industry\\r\\nand enterprise by holding them to the rigorous import of disastrous\\r\\nengagements. In March, 1821, a debt of \\$22,000,000, due by purchasers\\r\\nof the public lands, had accumulated, which they were unable to pay. An\\r\\nact of Congress of March 2nd, 1821, came to their relief, and has been\\r\\nsucceeded by others, the latest being the act of May 4th, 1826, the\\r\\nindulgent provisions of which expired on July 4th, 1827. The effect of\\r\\nthese laws has been to reduce the debt from the purchasers to a\\r\\nremaining balance of about \\$4,300,000 due, more than three fifths of\\r\\nwhich are for lands within the State of Alabama. I recommend to\\r\\nCongress the revival and continuance for a further term of the\\r\\nbeneficent accommodations to the public debtors of that statute, and\\r\\nsubmit to their consideration, in the same spirit of equity, the\\r\\nremission, under proper discriminations, of the forfeitures of partial\\r\\npayments on account of purchases of the public lands, so far as to\\r\\nallow of their application to other payments.\\r\\n\\r\\nThere are various other subjects of deep interest to the whole Union\\r\\nwhich have heretofore been recommended to the consideration of\\r\\nCongress, as well by my predecessors as, under the impression of the\\r\\nduties devolving upon me, by myself. Among these are the debt, rather\\r\\nof justice than gratitude, to the surviving warriors of the\\r\\nRevolutionary war; the extension of the judicial administration of the\\r\\nFederal Government to those extensive since the organization of the\\r\\npresent judiciary establishment, now constitute at least one third of\\r\\nits territory, power, and population; the formation of a more effective\\r\\nand uniform system for the government of the militia, and the\\r\\namelioration in some form or modification of the diversified and often\\r\\noppressive codes relating to insolvency. Amidst the multiplicity of\\r\\ntopics of great national concernment which may recommend themselves to\\r\\nthe calm and patriotic deliberations of the Legislature, it may suffice\\r\\nto say that on these and all other measures which may receive their\\r\\nsanction my hearty cooperation will be given, conformably to the duties\\r\\nenjoined upon me and under the sense of all the obligations prescribed\\r\\nby the Constitution.\\r\\n\\r\\nJOHN QUINCY ADAMS\""
      ]
     },
     "execution_count": 18,
     "metadata": {},
     "output_type": "execute_result"
    }
   ],
   "source": [
    "text(crps[1])"
   ]
  },
  {
   "cell_type": "code",
   "execution_count": 1,
   "metadata": {},
   "outputs": [],
   "source": [
    "using Distances, Statistics\n",
    "using MultivariateStats\n",
    "using PyPlot\n",
    "using WordTokenizers\n",
    "using TextAnalysis\n",
    "using DelimitedFiles"
   ]
  },
  {
   "cell_type": "code",
   "execution_count": 2,
   "metadata": {},
   "outputs": [
    {
     "data": {
      "text/plain": [
       "load_embeddings (generic function with 1 method)"
      ]
     },
     "execution_count": 2,
     "metadata": {},
     "output_type": "execute_result"
    }
   ],
   "source": [
    "function load_embeddings(embedding_file)\n",
    "    local LL, indexed_words, index\n",
    "    indexed_words = Vector{String}()\n",
    "    LL=Vector{Vector{Float32}}()\n",
    "    open(embedding_file) do f\n",
    "        index = 1\n",
    "        for line in eachline(f)\n",
    "            xs=split(line)\n",
    "            word=xs[1]\n",
    "            push!(indexed_words, word)\n",
    "            push!(LL, parse.(Float32,xs[2:end]))\n",
    "            index += 1\n",
    "        end\n",
    "    end\n",
    "    return reduce(hcat,LL), indexed_words\n",
    "end"
   ]
  },
  {
   "cell_type": "code",
   "execution_count": 6,
   "metadata": {},
   "outputs": [
    {
     "data": {
      "text/plain": [
       "\"G:/jupyterr/glove.6B.50d.txt\""
      ]
     },
     "execution_count": 6,
     "metadata": {},
     "output_type": "execute_result"
    }
   ],
   "source": [
    "pathname2=\"G:/jupyterr/glove.6B.50d.txt\""
   ]
  },
  {
   "cell_type": "code",
   "execution_count": 7,
   "metadata": {},
   "outputs": [
    {
     "name": "stdout",
     "output_type": "stream",
     "text": [
      "Each vector is represented by a vector with 50 features. The vocab size is 400000\n"
     ]
    }
   ],
   "source": [
    "embedding, vocab = load_embeddings(pathname2)\n",
    "vec_size, vocab_size = size(embedding)\n",
    "println(\"Each vector is represented by a vector with $vec_size features. The vocab size is $vocab_size\")"
   ]
  },
  {
   "cell_type": "code",
   "execution_count": 5,
   "metadata": {},
   "outputs": [
    {
     "data": {
      "text/plain": [
       "vec_idx (generic function with 1 method)"
      ]
     },
     "execution_count": 5,
     "metadata": {},
     "output_type": "execute_result"
    }
   ],
   "source": [
    "vec_idx(s) = findfirst(x -> x==s, vocab)\n",
    "  "
   ]
  },
  {
   "cell_type": "code",
   "execution_count": 8,
   "metadata": {},
   "outputs": [
    {
     "data": {
      "text/plain": [
       "692"
      ]
     },
     "execution_count": 8,
     "metadata": {},
     "output_type": "execute_result"
    }
   ],
   "source": [
    "vec_idx(\"king\")"
   ]
  },
  {
   "cell_type": "code",
   "execution_count": null,
   "metadata": {},
   "outputs": [],
   "source": [
    "vec_idx()"
   ]
  },
  {
   "cell_type": "code",
   "execution_count": 32,
   "metadata": {},
   "outputs": [],
   "source": [
    "using TextAnalysis: NaiveBayesClassifier, fit!, predict"
   ]
  },
  {
   "cell_type": "code",
   "execution_count": 9,
   "metadata": {},
   "outputs": [
    {
     "data": {
      "text/plain": [
       "2061"
      ]
     },
     "execution_count": 9,
     "metadata": {},
     "output_type": "execute_result"
    }
   ],
   "source": [
    "vec_idx(\"queen\")"
   ]
  },
  {
   "cell_type": "code",
   "execution_count": 10,
   "metadata": {},
   "outputs": [
    {
     "data": {
      "text/plain": [
       "50-element Array{Float32,1}:\n",
       "  0.35286\n",
       " -0.23699\n",
       " -0.77357\n",
       "  0.74114\n",
       " -0.012065\n",
       " -0.36192\n",
       " -0.39925\n",
       " -0.27894\n",
       "  1.7881\n",
       " -0.26777\n",
       " -0.36849\n",
       "  0.11557\n",
       "  1.3973\n",
       "  ⋮\n",
       " -0.86715\n",
       "  0.10879\n",
       " -0.58138\n",
       " -0.58457\n",
       "  0.60059\n",
       "  0.67574\n",
       "  0.40177\n",
       " -0.19689\n",
       "  0.2758\n",
       "  0.22438\n",
       " -0.027037\n",
       "  0.52948"
      ]
     },
     "execution_count": 10,
     "metadata": {},
     "output_type": "execute_result"
    }
   ],
   "source": [
    "function vec(s)\n",
    "    if vec_idx(s)!=nothing\n",
    "        embedding[:,vec_idx(s)]\n",
    "    end\n",
    "end\n",
    "vec(\"nongame\")"
   ]
  },
  {
   "cell_type": "code",
   "execution_count": 11,
   "metadata": {},
   "outputs": [
    {
     "data": {
      "text/plain": [
       "cosine (generic function with 1 method)"
      ]
     },
     "execution_count": 11,
     "metadata": {},
     "output_type": "execute_result"
    }
   ],
   "source": [
    "cosine(x,y)=1-cosine_dist(x,y)"
   ]
  },
  {
   "cell_type": "code",
   "execution_count": 12,
   "metadata": {},
   "outputs": [
    {
     "data": {
      "text/plain": [
       "0.7754921f0"
      ]
     },
     "execution_count": 12,
     "metadata": {},
     "output_type": "execute_result"
    }
   ],
   "source": [
    "cosine(vec(\"dog\"),vec(\"puppy\"))"
   ]
  },
  {
   "cell_type": "code",
   "execution_count": 15,
   "metadata": {},
   "outputs": [
    {
     "data": {
      "text/plain": [
       "0.7793778f0"
      ]
     },
     "execution_count": 15,
     "metadata": {},
     "output_type": "execute_result"
    }
   ],
   "source": [
    "cosine(vec(\"important\"),vec(\"vital\"))"
   ]
  },
  {
   "cell_type": "code",
   "execution_count": 14,
   "metadata": {},
   "outputs": [
    {
     "data": {
      "text/plain": [
       "0.45620286f0"
      ]
     },
     "execution_count": 14,
     "metadata": {},
     "output_type": "execute_result"
    }
   ],
   "source": [
    "cosine(vec(\"dog\"),vec(\"god\"))"
   ]
  },
  {
   "cell_type": "code",
   "execution_count": 15,
   "metadata": {},
   "outputs": [
    {
     "data": {
      "text/plain": [
       "50-element Array{Float32,1}:\n",
       " -0.053903\n",
       " -0.30871\n",
       " -1.3285\n",
       " -0.43342\n",
       "  0.31779\n",
       "  1.5224\n",
       " -0.6965\n",
       " -0.037086\n",
       " -0.83784\n",
       "  0.074107\n",
       " -0.30532\n",
       " -0.1783\n",
       "  1.2337\n",
       "  ⋮\n",
       "  1.9502\n",
       " -0.53274\n",
       "  1.1359\n",
       "  0.20027\n",
       "  0.02245\n",
       " -0.39379\n",
       "  1.0609\n",
       "  1.585\n",
       "  0.17889\n",
       "  0.43556\n",
       "  0.68161\n",
       "  0.066202"
      ]
     },
     "execution_count": 15,
     "metadata": {},
     "output_type": "execute_result"
    }
   ],
   "source": [
    "vec(\"cheese\")"
   ]
  },
  {
   "cell_type": "code",
   "execution_count": 16,
   "metadata": {},
   "outputs": [
    {
     "data": {
      "text/plain": [
       "closest (generic function with 2 methods)"
      ]
     },
     "execution_count": 16,
     "metadata": {},
     "output_type": "execute_result"
    }
   ],
   "source": [
    "function closest(v, n=15)\n",
    "    list=[(x,cosine(embedding'[x,:],v)) for x in 1:size(embedding)[2]]\n",
    "    topn_idx=sort(list, by=x -> x[2], rev=true)[1:n]\n",
    "    return [vocab[a] for(a,_) in topn_idx]\n",
    "end"
   ]
  },
  {
   "cell_type": "code",
   "execution_count": 17,
   "metadata": {},
   "outputs": [
    {
     "data": {
      "text/plain": [
       "15-element Array{String,1}:\n",
       " \"swim\"\n",
       " \"swimming\"\n",
       " \"swims\"\n",
       " \"swam\"\n",
       " \"surfing\"\n",
       " \"swimmers\"\n",
       " \"diving\"\n",
       " \"jumping\"\n",
       " \"paddling\"\n",
       " \"rowing\"\n",
       " \"sailing\"\n",
       " \"surf\"\n",
       " \"skate\"\n",
       " \"ride\"\n",
       " \"kayaking\""
      ]
     },
     "execution_count": 17,
     "metadata": {},
     "output_type": "execute_result"
    }
   ],
   "source": [
    "closest(vec(\"swim\"))"
   ]
  },
  {
   "cell_type": "code",
   "execution_count": 18,
   "metadata": {},
   "outputs": [
    {
     "data": {
      "text/plain": [
       "15-element Array{String,1}:\n",
       " \"lion\"\n",
       " \"dragon\"\n",
       " \"elephant\"\n",
       " \"beast\"\n",
       " \"golden\"\n",
       " \"cat\"\n",
       " \"unicorn\"\n",
       " \"bear\"\n",
       " \"rabbit\"\n",
       " \"spider\"\n",
       " \"mermaid\"\n",
       " \"rooster\"\n",
       " \"serpent\"\n",
       " \"rainbow\"\n",
       " \"vampire\""
      ]
     },
     "execution_count": 18,
     "metadata": {},
     "output_type": "execute_result"
    }
   ],
   "source": [
    "closest(vec(\"lion\"))"
   ]
  },
  {
   "cell_type": "code",
   "execution_count": 24,
   "metadata": {},
   "outputs": [
    {
     "data": {
      "text/plain": [
       "15-element Array{String,1}:\n",
       " \"heat\"\n",
       " \"fire\"\n",
       " \"ground\"\n",
       " \"fires\"\n",
       " \"heavy\"\n",
       " \"water\"\n",
       " \"cold\"\n",
       " \"light\"\n",
       " \"burn\"\n",
       " \"burning\"\n",
       " \"blowing\"\n",
       " \"smoke\"\n",
       " \"inside\"\n",
       " \"wind\"\n",
       " \"hours\""
      ]
     },
     "execution_count": 24,
     "metadata": {},
     "output_type": "execute_result"
    }
   ],
   "source": [
    "closest(vec(\"fire\")+vec(\"heat\"))"
   ]
  },
  {
   "cell_type": "code",
   "execution_count": 19,
   "metadata": {},
   "outputs": [
    {
     "data": {
      "text/plain": [
       "15-element Array{String,1}:\n",
       " \"flower\"\n",
       " \"wood\"\n",
       " \"flowers\"\n",
       " \"green\"\n",
       " \"garden\"\n",
       " \"robinson\"\n",
       " \"lane\"\n",
       " \"garland\"\n",
       " \"brown\"\n",
       " \"tree\"\n",
       " \"lily\"\n",
       " \"ellis\"\n",
       " \"berry\"\n",
       " \"stone\"\n",
       " \"parker\""
      ]
     },
     "execution_count": 19,
     "metadata": {},
     "output_type": "execute_result"
    }
   ],
   "source": [
    "closest(vec(\"flower\")+vec(\"gardner\"))"
   ]
  },
  {
   "cell_type": "code",
   "execution_count": 21,
   "metadata": {},
   "outputs": [
    {
     "data": {
      "text/plain": [
       "15-element Array{String,1}:\n",
       " \"king\"\n",
       " \"prince\"\n",
       " \"coronation\"\n",
       " \"queen\"\n",
       " \"throne\"\n",
       " \"majesty\"\n",
       " \"sir\"\n",
       " \"lord\"\n",
       " \"iv\"\n",
       " \"brother-in-law\"\n",
       " \"æthelstan\"\n",
       " \"augustus\"\n",
       " \"vi\"\n",
       " \"sigismund\"\n",
       " \"castle\""
      ]
     },
     "execution_count": 21,
     "metadata": {},
     "output_type": "execute_result"
    }
   ],
   "source": [
    "closest(vec(\"king\")+vec(\"queen\")-vec(\"women\"))"
   ]
  },
  {
   "cell_type": "code",
   "execution_count": 22,
   "metadata": {},
   "outputs": [
    {
     "data": {
      "text/plain": [
       "15-element Array{String,1}:\n",
       " \"river\"\n",
       " \"valley\"\n",
       " \"estuary\"\n",
       " \"basin\"\n",
       " \"mountains\"\n",
       " \"confluence\"\n",
       " \"flows\"\n",
       " \"tributary\"\n",
       " \"zambezi\"\n",
       " \"klamath\"\n",
       " \"rivers\"\n",
       " \"headwaters\"\n",
       " \"foothills\"\n",
       " \"himalaya\"\n",
       " \"originates\""
      ]
     },
     "execution_count": 22,
     "metadata": {},
     "output_type": "execute_result"
    }
   ],
   "source": [
    "closest(vec(\"himalaya\")+vec(\"\"))"
   ]
  },
  {
   "cell_type": "code",
   "execution_count": 43,
   "metadata": {},
   "outputs": [
    {
     "data": {
      "text/plain": [
       "15-element Array{String,1}:\n",
       " \"water\"\n",
       " \"ice\"\n",
       " \"dry\"\n",
       " \"sand\"\n",
       " \"dust\"\n",
       " \"snow\"\n",
       " \"hot\"\n",
       " \"salt\"\n",
       " \"heat\"\n",
       " \"surface\"\n",
       " \"natural\"\n",
       " \"covered\"\n",
       " \"cold\"\n",
       " \"ocean\"\n",
       " \"wet\""
      ]
     },
     "execution_count": 43,
     "metadata": {},
     "output_type": "execute_result"
    }
   ],
   "source": [
    "closest(vec(\"water\")+vec(\"ice\"))"
   ]
  },
  {
   "cell_type": "code",
   "execution_count": 25,
   "metadata": {},
   "outputs": [
    {
     "data": {
      "text/plain": [
       "15-element Array{String,1}:\n",
       " \"night\"\n",
       " \"day\"\n",
       " \"days\"\n",
       " \"weekend\"\n",
       " \"morning\"\n",
       " \"sunday\"\n",
       " \"afternoon\"\n",
       " \"saturday\"\n",
       " \"came\"\n",
       " \"week\"\n",
       " \"evening\"\n",
       " \"coming\"\n",
       " \"next\"\n",
       " \"on\"\n",
       " \"before\""
      ]
     },
     "execution_count": 25,
     "metadata": {},
     "output_type": "execute_result"
    }
   ],
   "source": [
    "closest(mean([vec(\"day\"), vec(\"night\")]))"
   ]
  },
  {
   "cell_type": "code",
   "execution_count": 30,
   "metadata": {},
   "outputs": [
    {
     "name": "stdout",
     "output_type": "stream",
     "text": [
      "Loaded Storm Of London, length=883111 characters\n"
     ]
    }
   ],
   "source": [
    "txt=open(\"G:/jupyterr/book.txt\") do file \n",
    "    read(file, String)\n",
    "end\n",
    "println(\"Loaded Storm Of London, length=$(length(txt)) characters\")"
   ]
  },
  {
   "cell_type": "code",
   "execution_count": 29,
   "metadata": {},
   "outputs": [
    {
     "data": {
      "text/plain": [
       "sentences (generic function with 1 method)"
      ]
     },
     "execution_count": 29,
     "metadata": {},
     "output_type": "execute_result"
    }
   ],
   "source": [
    "using WordTokenizers, TextAnalysis\n",
    "\n",
    "function sentences(txt)\n",
    "    txt= replace(txt, r\"\\n|\\r|_|,\"=>\"\")\n",
    "    txt= replace(txt, r\"[\\\"*();!]\"=>\"\")\n",
    "    sd=StringDocument(txt)\n",
    "    prepare!(sd, strip_whitespace)\n",
    "    sentences = WordTokenizers.split_sentences(sd.text)\n",
    "    i=1\n",
    "    for s in 1:length(sentences)\n",
    "        if lenght(split(sentences[s]))>3\n",
    "            sentences[i]=lowercase(replace(sentences[s], \".\"=>\"\"))\n",
    "            i+1\n",
    "        end\n",
    "    end\n",
    "sentences[1000:1010]\n",
    "end"
   ]
  },
  {
   "cell_type": "code",
   "execution_count": 31,
   "metadata": {},
   "outputs": [
    {
     "data": {
      "text/plain": [
       "sentvec (generic function with 1 method)"
      ]
     },
     "execution_count": 31,
     "metadata": {},
     "output_type": "execute_result"
    }
   ],
   "source": [
    "function sentvec(s)\n",
    "    local arr=[64]\n",
    "    for w in split(sentences[s])\n",
    "        if vec(w)!=nothing\n",
    "            push!(arr, vec(w))\n",
    "        end\n",
    "    end\n",
    "    if lenght(arr)==0\n",
    "        ones(Float64, (50,1))*900\n",
    "    else\n",
    "        mean(arr)\n",
    "    end\n",
    "end"
   ]
  },
  {
   "cell_type": "code",
   "execution_count": 32,
   "metadata": {},
   "outputs": [
    {
     "ename": "LoadError",
     "evalue": "MethodError: no method matching getindex(::typeof(sentences), ::Int64)",
     "output_type": "error",
     "traceback": [
      "MethodError: no method matching getindex(::typeof(sentences), ::Int64)",
      "",
      "Stacktrace:",
      " [1] top-level scope at In[32]:1",
      " [2] include_string(::Function, ::Module, ::String, ::String) at .\\loading.jl:1091"
     ]
    }
   ],
   "source": [
    "sentences[20]"
   ]
  },
  {
   "cell_type": "code",
   "execution_count": 41,
   "metadata": {},
   "outputs": [
    {
     "data": {
      "text/plain": [
       "closest_sent (generic function with 2 methods)"
      ]
     },
     "execution_count": 41,
     "metadata": {},
     "output_type": "execute_result"
    }
   ],
   "source": [
    "function closest_sent(input_str, n=200)\n",
    "    mean_vec_input=mean([vec(w) for w in split(input_str)])\n",
    "    list=[(x,cosine(mean_vec_input, sentvec(x))) for x in 1:lenght(sentence)]\n",
    "    topn_idx=sort(list, by = x -> x[2], rev=true)[1:n]\n",
    "    return [sentences[a] for (a,_) in topn_idx]\n",
    "end"
   ]
  },
  {
   "cell_type": "code",
   "execution_count": 42,
   "metadata": {},
   "outputs": [
    {
     "ename": "LoadError",
     "evalue": "MethodError: no method matching +(::Array{Float32,1}, ::Nothing)\nClosest candidates are:\n  +(::Any, ::Any, !Matched::Any, !Matched::Any...) at operators.jl:538\n  +(!Matched::PyCall.PyObject, ::Any) at C:\\Users\\jay patel\\.julia\\packages\\PyCall\\BcTLp\\src\\pyoperators.jl:13\n  +(::Array, !Matched::Array...) at arraymath.jl:43\n  ...",
     "output_type": "error",
     "traceback": [
      "MethodError: no method matching +(::Array{Float32,1}, ::Nothing)\nClosest candidates are:\n  +(::Any, ::Any, !Matched::Any, !Matched::Any...) at operators.jl:538\n  +(!Matched::PyCall.PyObject, ::Any) at C:\\Users\\jay patel\\.julia\\packages\\PyCall\\BcTLp\\src\\pyoperators.jl:13\n  +(::Array, !Matched::Array...) at arraymath.jl:43\n  ...",
      "",
      "Stacktrace:",
      " [1] add_sum(::Array{Float32,1}, ::Nothing) at .\\reduce.jl:24",
      " [2] _mapreduce(::Statistics.var\"#4#6\"{typeof(identity),Array{Float32,1}}, ::typeof(Base.add_sum), ::IndexLinear, ::Array{Union{Nothing, Array{Float32,1}},1}) at .\\reduce.jl:411",
      " [3] _mapreduce_dim at .\\reducedim.jl:318 [inlined]",
      " [4] #mapreduce#620 at .\\reducedim.jl:310 [inlined]",
      " [5] mapreduce at .\\reducedim.jl:310 [inlined]",
      " [6] _sum at .\\reducedim.jl:727 [inlined]",
      " [7] #sum#628 at .\\reducedim.jl:723 [inlined]",
      " [8] _mean(::typeof(identity), ::Array{Union{Nothing, Array{Float32,1}},1}, ::Colon) at C:\\buildbot\\worker\\package_win64\\build\\usr\\share\\julia\\stdlib\\v1.5\\Statistics\\src\\Statistics.jl:177",
      " [9] #mean#2 at C:\\buildbot\\worker\\package_win64\\build\\usr\\share\\julia\\stdlib\\v1.5\\Statistics\\src\\Statistics.jl:164 [inlined]",
      " [10] mean(::Array{Union{Nothing, Array{Float32,1}},1}) at C:\\buildbot\\worker\\package_win64\\build\\usr\\share\\julia\\stdlib\\v1.5\\Statistics\\src\\Statistics.jl:164",
      " [11] closest_sent(::String, ::Int64) at .\\In[41]:2 (repeats 2 times)",
      " [12] top-level scope at In[42]:1",
      " [13] include_string(::Function, ::Module, ::String, ::String) at .\\loading.jl:1091"
     ]
    }
   ],
   "source": [
    "closest_sent(\"my favorites food is strawberry ice creame\")"
   ]
  },
  {
   "cell_type": "code",
   "execution_count": null,
   "metadata": {},
   "outputs": [],
   "source": [
    "\n"
   ]
  }
 ],
 "metadata": {
  "kernelspec": {
   "display_name": "Julia 1.5.3",
   "language": "julia",
   "name": "julia-1.5"
  },
  "language_info": {
   "file_extension": ".jl",
   "mimetype": "application/julia",
   "name": "julia",
   "version": "1.5.3"
  }
 },
 "nbformat": 4,
 "nbformat_minor": 4
}
